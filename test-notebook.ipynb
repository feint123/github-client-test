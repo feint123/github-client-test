{
  "cells": [
    {
      "cell_type": "raw",
      "metadata": {
        "vscode": {
          "languageId": "raw"
        }
      },
      "source": [
        "# 数据分析测试笔记本\n",
        "\n",
        "这是一个用于测试渲染的Jupyter Notebook文件。\n"
      ]
    },
    {
      "cell_type": "code",
      "execution_count": null,
      "metadata": {},
      "outputs": [],
      "source": [
        "import pandas as pd\n",
        "import numpy as np\n",
        "import matplotlib.pyplot as plt\n",
        "import seaborn as sns\n",
        "\n",
        "print(\"导入库成功！\")\n"
      ]
    },
    {
      "cell_type": "raw",
      "metadata": {
        "vscode": {
          "languageId": "raw"
        }
      },
      "source": [
        "## 数据加载和预处理\n"
      ]
    },
    {
      "cell_type": "code",
      "execution_count": null,
      "metadata": {},
      "outputs": [],
      "source": [
        "# 读取CSV数据\n",
        "df = pd.read_csv('test-data.csv')\n",
        "print(\"数据形状:\", df.shape)\n",
        "df.head()\n"
      ]
    },
    {
      "cell_type": "raw",
      "metadata": {
        "vscode": {
          "languageId": "raw"
        }
      },
      "source": [
        "## 数据可视化\n"
      ]
    },
    {
      "cell_type": "code",
      "execution_count": null,
      "metadata": {},
      "outputs": [],
      "source": [
        "# 创建年龄分布图\n",
        "plt.figure(figsize=(10, 6))\n",
        "plt.hist(df['Age'], bins=20, alpha=0.7, color='skyblue')\n",
        "plt.title('年龄分布')\n",
        "plt.xlabel('年龄')\n",
        "plt.ylabel('频次')\n",
        "plt.grid(True, alpha=0.3)\n",
        "plt.show()\n"
      ]
    },
    {
      "cell_type": "code",
      "execution_count": null,
      "metadata": {},
      "outputs": [],
      "source": [
        "# 薪资与年龄的散点图\n",
        "plt.figure(figsize=(10, 6))\n",
        "plt.scatter(df['Age'], df['Salary'], alpha=0.7, c='coral')\n",
        "plt.title('年龄与薪资关系')\n",
        "plt.xlabel('年龄')\n",
        "plt.ylabel('薪资')\n",
        "plt.grid(True, alpha=0.3)\n",
        "plt.show()\n"
      ]
    },
    {
      "cell_type": "raw",
      "metadata": {
        "vscode": {
          "languageId": "raw"
        }
      },
      "source": [
        "## 统计分析\n"
      ]
    },
    {
      "cell_type": "code",
      "execution_count": null,
      "metadata": {},
      "outputs": [],
      "source": [
        "# 基本统计信息\n",
        "print(\"数据统计摘要:\")\n",
        "print(df.describe())\n",
        "\n",
        "print(\"\\n按国家分组的平均薪资:\")\n",
        "country_salary = df.groupby('Country')['Salary'].mean().sort_values(ascending=False)\n",
        "print(country_salary)\n"
      ]
    }
  ],
  "metadata": {
    "language_info": {
      "name": "python"
    }
  },
  "nbformat": 4,
  "nbformat_minor": 2
}
