{
  "cells": [
    {
      "cell_type": "raw",
      "metadata": {
        "vscode": {
          "languageId": "raw"
        }
      },
      "source": [
        "# 数据分析测试笔记本\n",
        "\n",
        "这是一个用于测试渲染的Jupyter Notebook文件。\n"
      ]
    },
    {
      "cell_type": "code",
      "execution_count": null,
      "metadata": {},
      "outputs": [],
      "source": [
        "import pandas as pd\n",
        "import numpy as np\n",
        "import matplotlib.pyplot as plt\n",
        "import seaborn as sns\n",
        "\n",
        "print(\"导入库成功！\")\n"
      ]
    },
    {
      "cell_type": "raw",
      "metadata": {
        "vscode": {
          "languageId": "raw"
        }
      },
      "source": [
        "## 数据加载和预处理\n"
      ]
    },
    {
      "cell_type": "code",
      "execution_count": null,
      "metadata": {},
      "outputs": [],
      "source": [
        "# 创建示例数据\n",
        "data = {\n",
        "    'Product_Name': ['无线蓝牙耳机', '笔记本电脑', '咖啡豆', '瑜伽垫', 'LED台灯', \n",
        "                     '运动鞋', '保温杯', '手机壳', '有机绿茶', '书桌'],\n",
        "    'Category': ['电子产品', '电子产品', '食品饮料', '运动健身', '家居用品',\n",
        "                 '服装鞋类', '家居用品', '电子配件', '食品饮料', '家具'],\n",
        "    'Price': [299.99, 5999.00, 89.50, 159.00, 199.99, \n",
        "              599.00, 129.99, 39.99, 65.00, 899.00],\n",
        "    'Stock_Quantity': [150, 45, 300, 80, 120, 200, 250, 500, 180, 25],\n",
        "    'Rating': [4.5, 4.7, 4.3, 4.6, 4.4, 4.8, 4.2, 4.1, 4.5, 4.6]\n",
        "}\n",
        "\n",
        "df = pd.DataFrame(data)\n",
        "print(\"数据形状:\", df.shape)\n",
        "df.head()\n"
      ]
    },
    {
      "cell_type": "raw",
      "metadata": {
        "vscode": {
          "languageId": "raw"
        }
      },
      "source": [
        "## 数据可视化\n"
      ]
    },
    {
      "cell_type": "code",
      "execution_count": null,
      "metadata": {},
      "outputs": [],
      "source": [
        "# 创建价格分布图\n",
        "plt.figure(figsize=(10, 6))\n",
        "plt.hist(df['Price'], bins=15, alpha=0.7, color='skyblue', edgecolor='black')\n",
        "plt.title('产品价格分布')\n",
        "plt.xlabel('价格 (元)')\n",
        "plt.ylabel('频次')\n",
        "plt.grid(True, alpha=0.3)\n",
        "plt.show()\n"
      ]
    },
    {
      "cell_type": "code",
      "execution_count": null,
      "metadata": {},
      "outputs": [],
      "source": [
        "# 价格与评分的散点图\n",
        "plt.figure(figsize=(10, 6))\n",
        "plt.scatter(df['Price'], df['Rating'], alpha=0.7, c='coral', s=100)\n",
        "plt.title('产品价格与评分关系')\n",
        "plt.xlabel('价格 (元)')\n",
        "plt.ylabel('评分')\n",
        "plt.grid(True, alpha=0.3)\n",
        "plt.show()\n"
      ]
    },
    {
      "cell_type": "raw",
      "metadata": {
        "vscode": {
          "languageId": "raw"
        }
      },
      "source": [
        "## 统计分析\n"
      ]
    },
    {
      "cell_type": "code",
      "execution_count": null,
      "metadata": {},
      "outputs": [],
      "source": [
        "# 基本统计信息\n",
        "print(\"数据统计摘要:\")\n",
        "print(df.describe())\n",
        "\n",
        "print(\"\\n按类别分组的平均价格:\")\n",
        "category_price = df.groupby('Category')['Price'].mean().sort_values(ascending=False)\n",
        "print(category_price)\n",
        "\n",
        "print(\"\\n按类别分组的平均评分:\")\n",
        "category_rating = df.groupby('Category')['Rating'].mean().sort_values(ascending=False)\n",
        "print(category_rating)\n"
      ]
    },
    {
      "cell_type": "raw",
      "metadata": {
        "vscode": {
          "languageId": "raw"
        }
      },
      "source": [
        "## 数据洞察与结论\n",
        "\n",
        "通过上述分析，我们可以得出以下几个重要发现：\n",
        "\n",
        "### 主要发现\n",
        "\n",
        "1. **价格分布特征**\n",
        "   - 大部分产品价格集中在较低区间\n",
        "   - 存在少数高价产品（如笔记本电脑和书桌）\n",
        "   - 价格范围跨度较大，从几十元到几千元\n",
        "\n",
        "2. **评分表现**\n",
        "   - 所有产品评分都在4.0以上，说明整体质量较好\n",
        "   - 评分集中在4.1-4.8之间，差异相对较小\n",
        "\n",
        "3. **类别分析**\n",
        "   - 电子产品价格较高但评分也相对较高\n",
        "   - 家居用品性价比较好\n",
        "   - 食品饮料类产品价格适中\n",
        "\n",
        "### 建议\n",
        "\n",
        "- 可以考虑增加中等价位产品的比例\n",
        "- 关注低评分产品的改进空间\n",
        "- 电子产品类别具有较好的市场潜力\n"
      ]
    }
  ],
  "metadata": {
    "language_info": {
      "name": "python"
    }
  },
  "nbformat": 4,
  "nbformat_minor": 2
}
